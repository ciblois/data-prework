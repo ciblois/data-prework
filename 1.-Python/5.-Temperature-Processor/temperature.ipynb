{
 "cells": [
  {
   "cell_type": "markdown",
   "metadata": {},
   "source": [
    "<img src=\"https://bit.ly/2VnXWr2\" width=\"100\" align=\"left\">"
   ]
  },
  {
   "cell_type": "markdown",
   "metadata": {},
   "source": [
    "# Temperature Sensor\n",
    "\n",
    "There is a temperature sensor in the processor of your company's server. The company wants to analyze the data provided by the sensor to decide if they should change the cooling system for a better one. As changing the cooling system is expensive and you are an excellent data analyst, you can't make a decision without basis.\n",
    "\n",
    "## Tools\n",
    "You don't necessarily need to use all the tools. Maybe you opt to use some of them or completely different ones, they are given to help you shape the exercise. Programming exercises can be solved in many different ways.\n",
    "1. Data structures: **lists**\n",
    "2. Loops: **list comprehension**\n",
    "3. Functions: **min, max, print, len**\n",
    "4. Conditional statements: **if-elif-else**\n",
    "\n",
    "## Tasks\n",
    "The temperatures measured throughout the 24 hours of a day are:"
   ]
  },
  {
   "cell_type": "code",
   "execution_count": 150,
   "metadata": {},
   "outputs": [],
   "source": [
    "temperatures_C = [33, 66, 65, 0, 59, 60, 62, 64, 70, 76, 80, 81, 80, 83, 90, 79, 61, 53, 50, 49, 53, 48, 45, 39]"
   ]
  },
  {
   "cell_type": "markdown",
   "metadata": {},
   "source": [
    "The first element of the list is the temperature at 12am, the second element is the temperature at 1am, and so on. \n",
    "\n",
    "The company has decided that if one of the following events occurs, then the cooling system needs to be replaced for a new one to avoid damaging the processor.\n",
    "* More than 4 temperatures are greater than or equal to 70ºC.\n",
    "* Any temperature is above 80ºC.\n",
    "* The average temperature exceeds 65ºC.\n",
    "\n",
    "Follow the steps so that you can make the decision.\n",
    "\n",
    "#### 1. Find the minimum temperature of the day and store it in a variable."
   ]
  },
  {
   "cell_type": "code",
   "execution_count": 151,
   "metadata": {
    "tags": []
   },
   "outputs": [
    {
     "output_type": "stream",
     "name": "stdout",
     "text": "The minimum temperature of the day was 0\n"
    }
   ],
   "source": [
    "min_temp_day = min(temperatures_C)\n",
    "print(\"The minimum temperature of the day was\",min_temp_day)"
   ]
  },
  {
   "cell_type": "markdown",
   "metadata": {},
   "source": [
    "#### 2. Find the maximum temperature of the day and store it in a variable."
   ]
  },
  {
   "cell_type": "code",
   "execution_count": 152,
   "metadata": {
    "tags": []
   },
   "outputs": [
    {
     "output_type": "stream",
     "name": "stdout",
     "text": "The minimum temperature of the day was 0 and the maximum was 90\n"
    }
   ],
   "source": [
    "max_temp_day = max(temperatures_C)\n",
    "print(\"The minimum temperature of the day was\",min_temp_day,\"and the maximum was\",max_temp_day)"
   ]
  },
  {
   "cell_type": "markdown",
   "metadata": {},
   "source": [
    "#### 3. Create a list with the temperatures that are greater than or equal to 70ºC. Store it in a variable."
   ]
  },
  {
   "cell_type": "code",
   "execution_count": 153,
   "metadata": {
    "tags": []
   },
   "outputs": [
    {
     "output_type": "stream",
     "name": "stdout",
     "text": "It was registered 8 temperatures greater than or equal to 70ºC.\n"
    }
   ],
   "source": [
    "high_temperatures = []\n",
    "\n",
    "for i in range(0,len(temperatures_C)):\n",
    "    x = temperatures_C[i]\n",
    "    if x >= 70:\n",
    "        high_temperatures.append(x)\n",
    "    else:\n",
    "        pass\n",
    "\n",
    "print(\"It was registered\",len(high_temperatures),\"temperatures greater than or equal to 70ºC.\")"
   ]
  },
  {
   "cell_type": "markdown",
   "metadata": {},
   "source": [
    "#### 4. Find the average temperature of the day and store it in a variable."
   ]
  },
  {
   "cell_type": "code",
   "execution_count": 154,
   "metadata": {
    "tags": []
   },
   "outputs": [
    {
     "output_type": "stream",
     "name": "stdout",
     "text": "The average temeprature in this day was 60.25\n"
    }
   ],
   "source": [
    "average_temperature = sum(temperatures_C)/len(temperatures_C)\n",
    "print(\"The average temeprature in this day was\",average_temperature)"
   ]
  },
  {
   "cell_type": "markdown",
   "metadata": {},
   "source": [
    "#### 5. Imagine that there was a sensor failure at 3am and the data for that specific hour was not recorded. How would you estimate the missing value? Replace the current value of the list at 3am for an estimation. "
   ]
  },
  {
   "cell_type": "code",
   "execution_count": 155,
   "metadata": {
    "tags": []
   },
   "outputs": [
    {
     "output_type": "stream",
     "name": "stdout",
     "text": "The temperature record was missing at 3 o'clock and it was placed for room temperature of 23.\n"
    }
   ],
   "source": [
    "list_time = []\n",
    "\n",
    "for i in range(0,24):\n",
    "    list_time.append(i)\n",
    "\n",
    "time_temperature = dict(zip(list_time,temperatures_C))\n",
    "\n",
    "#Considering the value 0 as a missing recorded.\n",
    "\n",
    "for i in range(0,len(temperatures_C)):\n",
    "    x = temperatures_C[i]\n",
    "    if x == 0:\n",
    "        temperatures_C[i] = 23\n",
    "        print(\"The temperature record was missing at\",i,\"o'clock and it was placed for room temperature of 23.\")\n",
    "    else:\n",
    "        pass"
   ]
  },
  {
   "cell_type": "markdown",
   "metadata": {},
   "source": [
    "6. Bonus: the maintenance staff is from the United States and does not understand the international metric system. Help them by converting the temperatures from Celsius to Fahrenheit.\n",
    "To know more about temperature conversion check this [link](https://en.wikipedia.org/wiki/Conversion_of_units_of_temperature).\n",
    "\n",
    "**Formula**: \n",
    "\n",
    "$F = 1.8 * C + 32$"
   ]
  },
  {
   "cell_type": "code",
   "execution_count": 156,
   "metadata": {
    "tags": []
   },
   "outputs": [
    {
     "output_type": "stream",
     "name": "stdout",
     "text": "The minimum temperature of the day was 32.0 ºF and the maximum was 194.0 ºF.\nThe cooling system needs to be change bacause it was registered temperature above. 176.0 ºF.\nIt was registered 8 temperatures greater than or equal to 158.0 ºF.\nSo the cooling system needs to be replaced for a new one.\nThe average temperature wasn't above 149.0 ºF so the cooling system is ok.\nThe temperature record was missing at 3 o'clock and it was placed for room temperature of 73.4 ºF.\n"
    }
   ],
   "source": [
    "temperatures_C = [33, 66, 65, 0, 59, 60, 62, 64, 70, 76, 80, 81, 80, 83, 90, 79, 61, 53, 50, 49, 53, 48, 45, 39]\n",
    "temperatures_F = []\n",
    "\n",
    "for i in range(0,len(temperatures_C)):\n",
    "    C = temperatures_C[i]\n",
    "    F = (C*1.8)+32\n",
    "    temperatures_F.append(F)\n",
    "\n",
    "#print(temperatures_F)\n",
    "\n",
    "F_80 = 80*1.8 + 32\n",
    "F_70 = 70*1.8 + 32\n",
    "F_65 = 65*1.8 + 32\n",
    "F_zero = 0*1.8+32\n",
    "F_room = 23*1.8+32\n",
    "\n",
    "min_temp_day = min(temperatures_F)\n",
    "max_temp_day = max(temperatures_F)\n",
    "print(\"The minimum temperature of the day was\",min_temp_day,\"ºF and the maximum was\",max_temp_day,\"ºF.\")\n",
    "\n",
    "if max_temp_day > F_80:\n",
    "    print(\"The cooling system needs to be change bacause it was registered temperature above.\",F_80,\"ºF.\")\n",
    "else:\n",
    "    print(\"The cooling system is ok because it was not registered temperature above.\",F_80,\"ºF.\")\n",
    "\n",
    "high_temperatures_F = []\n",
    "\n",
    "for i in range(0,len(temperatures_F)):\n",
    "    x = temperatures_F[i]\n",
    "    if x >= F_70:\n",
    "        high_temperatures_F.append(x)\n",
    "    else:\n",
    "        pass\n",
    "\n",
    "print(\"It was registered\",len(high_temperatures_F),\"temperatures greater than or equal to\",F_70,\"ºF.\")\n",
    "if len(high_temperatures_F) > 4:\n",
    "    print(\"So the cooling system needs to be replaced for a new one.\")\n",
    "else:\n",
    "    print(\"The cooling system is ok.\")\n",
    "\n",
    "average_temperature_F = sum(temperatures_F)/len(temperatures_F)\n",
    "#print(\"The average temeprature in this day was\",average_temperature)\n",
    "if average_temperature > F_65:\n",
    "    print(\"the cooling system needs to be replaced for a new one, beacuse of the average temperature was\",average_temperature_F,\"ºF.\")\n",
    "else:\n",
    "    print(\"The average temperature wasn't above\",F_65,\"ºF so the cooling system is ok.\")\n",
    "\n",
    "#Considering the value 0ºC as a missing recorded.\n",
    "\n",
    "for i in range(0,len(temperatures_F)):\n",
    "    x = temperatures_F[i]\n",
    "    if x == F_zero:\n",
    "        temperatures_F[i] = F_room\n",
    "        print(\"The temperature record was missing at\",i,\"o'clock and it was placed for room temperature of\",F_room,\"ºF.\")\n",
    "    else:\n",
    "        pass"
   ]
  },
  {
   "cell_type": "markdown",
   "metadata": {},
   "source": [
    "#### 7. Make a decision!\n",
    "Now it's time to make a decision taking into account what you have seen until now. \n",
    "\n",
    "Remember that if one of the following events occurs, then the cooling system needs to be replaced for a new one to avoid damaging the processor.\n",
    "* More than 4 temperatures are greater than or equal to 70ºC.\n",
    "* Any temperature is above 80ºC.\n",
    "* The average temperature exceeds 65ºC.\n",
    "\n",
    "#### To make your decision, check if any of the three conditions above is met. You might need to use some of the variables you created in steps 1 to 6. Print a message to show if the cooling system needs to be changed or not."
   ]
  },
  {
   "cell_type": "code",
   "execution_count": 157,
   "metadata": {
    "tags": []
   },
   "outputs": [
    {
     "output_type": "stream",
     "name": "stdout",
     "text": "The cooling system needs to be change.\n"
    }
   ],
   "source": [
    "if (max_temp_day > 80) | (len(high_temperatures) > 4) | (average_temperature > 65):\n",
    "    print(\"The cooling system needs to be change.\")\n",
    "else:\n",
    "    print(\"The cooling system is ok.\")"
   ]
  },
  {
   "cell_type": "markdown",
   "metadata": {},
   "source": [
    "## Bonus\n",
    "\n",
    "The company has decided that the decision you made is not valid. They want you to analyze the data again but this time, the conditions that need to be met in order to change the cooling system are different.\n",
    "\n",
    "This time, if one of the following events occurs, then the cooling system needs to be replaced:\n",
    "* The temperature is greater than 70ºC during more than 4 consecutive hours.\n",
    "* Any temperature is above 80ºC.\n",
    "* The average temperature exceeds 65ºC.\n",
    "\n",
    "Follow the steps so that you can make the decision.\n",
    "\n",
    "#### 1. Create a list with the hours where the temperature is greater than 70ºC. Store it in a variable."
   ]
  },
  {
   "cell_type": "code",
   "execution_count": 158,
   "metadata": {
    "tags": []
   },
   "outputs": [
    {
     "output_type": "stream",
     "name": "stdout",
     "text": "['No', 'No', 'No', 'No', 'No', 'No', 'No', 'No', 'No', 'Yes', 'Yes', 'Yes', 'Yes', 'Yes', 'Yes', 'Yes', 'No', 'No', 'No', 'No', 'No', 'No', 'No', 'No']\n"
    }
   ],
   "source": [
    "time_temperature_consec = []\n",
    "\n",
    "for i in range(0,len(temperatures_C)):\n",
    "    x = temperatures_C[i]\n",
    "    if x > 70:\n",
    "        y = \"Yes\"\n",
    "        time_temperature_consec.append(y)\n",
    "    else:\n",
    "        z = \"No\"\n",
    "        time_temperature_consec.append(z)\n",
    "\n",
    "print(time_temperature_consec)"
   ]
  },
  {
   "cell_type": "markdown",
   "metadata": {},
   "source": [
    "#### 2. Check if the list you created in step 1 has more than 4 consecutive hours. "
   ]
  },
  {
   "cell_type": "code",
   "execution_count": 159,
   "metadata": {
    "tags": []
   },
   "outputs": [
    {
     "output_type": "stream",
     "name": "stdout",
     "text": "4\n"
    }
   ],
   "source": [
    "high_temperatures_consec = 0\n",
    "\n",
    "for i in range(0,len(time_temperature_consec)):\n",
    "    try:\n",
    "        number_1 = time_temperature_consec[i]\n",
    "        a = i+1\n",
    "        number_2 = time_temperature_consec[a]\n",
    "        b = i+2\n",
    "        number_3 = time_temperature_consec[b]\n",
    "        c = i+3\n",
    "        number_4 = time_temperature_consec[c]\n",
    "        if (number_1 == \"Yes\") & (number_2 == \"Yes\") & (number_3 == \"Yes\") & (number_4 == \"Yes\"):\n",
    "            high_temperatures_consec +=1\n",
    "        else:\n",
    "            pass\n",
    "    except:\n",
    "        break\n",
    "print(high_temperatures_consec)"
   ]
  },
  {
   "cell_type": "markdown",
   "metadata": {},
   "source": [
    "#### 3. Make the decision!\n",
    "To make your decision, check if any of the three conditions is met. Print a message to show if the cooling system needs to be changed or not."
   ]
  },
  {
   "cell_type": "code",
   "execution_count": 160,
   "metadata": {
    "tags": []
   },
   "outputs": [
    {
     "output_type": "stream",
     "name": "stdout",
     "text": "The cooling system needs to be change.\n"
    }
   ],
   "source": [
    "if (max_temp_day > 80) | (high_temperatures_consec > 0) | (average_temperature > 65):\n",
    "    print(\"The cooling system needs to be change.\")\n",
    "else:\n",
    "    print(\"The cooling system is ok.\")"
   ]
  },
  {
   "cell_type": "markdown",
   "metadata": {},
   "source": [
    "#### 4. Find the average value of the temperature lists (ºC and ºF). What is the relation between both average values?"
   ]
  },
  {
   "cell_type": "code",
   "execution_count": 161,
   "metadata": {
    "tags": []
   },
   "outputs": [
    {
     "output_type": "stream",
     "name": "stdout",
     "text": "The average for Celsius is 60.25 and for Fahrenheit is 140.45\nThe relation between both of them is equal to convert Celsius in Fahrenheit\n"
    }
   ],
   "source": [
    "average_F = (average_temperature*1.8)+32\n",
    "\n",
    "print(\"The average for Celsius is\",average_temperature,\"and for Fahrenheit is\",average_temperature_F)\n",
    "\n",
    "if average_F == average_temperature_F:\n",
    "    print(\"The relation between both of them is equal to convert Celsius in Fahrenheit\")\n",
    "else:\n",
    "    print(\"No relation.\")"
   ]
  },
  {
   "cell_type": "markdown",
   "metadata": {},
   "source": [
    "5. Find the standard deviation of the temperature lists (ºC and ºF). What is the relation between both standard deviations?"
   ]
  },
  {
   "cell_type": "code",
   "execution_count": 162,
   "metadata": {
    "tags": []
   },
   "outputs": [
    {
     "output_type": "stream",
     "name": "stdout",
     "text": "The standart deviation for Celsius is 19.700474503223873 and for Fahrenheit is 30.634411597304158\nNo relation.\n"
    }
   ],
   "source": [
    "import statistics\n",
    "std_dev_C = statistics.stdev(temperatures_C)\n",
    "std_dev_F = statistics.stdev(temperatures_F)\n",
    "\n",
    "print(\"The standart deviation for Celsius is\",std_dev_C,\"and for Fahrenheit is\",std_dev_F)\n",
    "\n",
    "dev_F = std_dev_C*1.8 + 32\n",
    "\n",
    "if dev_F == std_dev_F:\n",
    "    print(\"The relation between both of them is equal to convert Celsius in Fahrenheit\")\n",
    "else:\n",
    "    print(\"No relation.\")"
   ]
  }
 ],
 "metadata": {
  "kernelspec": {
   "display_name": "Python 3",
   "language": "python",
   "name": "python3"
  },
  "language_info": {
   "codemirror_mode": {
    "name": "ipython",
    "version": 3
   },
   "file_extension": ".py",
   "mimetype": "text/x-python",
   "name": "python",
   "nbconvert_exporter": "python",
   "pygments_lexer": "ipython3",
   "version": "3.8.5-final"
  }
 },
 "nbformat": 4,
 "nbformat_minor": 2
}