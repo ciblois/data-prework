{
 "cells": [
  {
   "cell_type": "markdown",
   "metadata": {},
   "source": [
    "<img src=\"https://bit.ly/2VnXWr2\" width=\"100\" align=\"left\">"
   ]
  },
  {
   "cell_type": "markdown",
   "metadata": {},
   "source": [
    "# Bus\n",
    "\n",
    "This bus has a passenger entry and exit control system to monitor the number of occupants it carries and thus detect when there are too many.\n",
    "\n",
    "At each stop, the entry and exit of passengers is represented by a tuple consisting of two integer numbers.\n",
    "```\n",
    "bus_stop = (in, out)\n",
    "```\n",
    "The succession of stops is represented by a list of these tuples.\n",
    "```\n",
    "stops = [(in1, out1), (in2, out2), (in3, out3), (in4, out4)]\n",
    "```\n",
    "\n",
    "## Tools\n",
    "You don't necessarily need to use all the tools. Maybe you opt to use some of them or completely different ones, they are given to help you shape the exercise. Programming exercises can be solved in many different ways.\n",
    "* Data structures: **lists, tuples**\n",
    "* Loop: **while/for loops**\n",
    "* Functions: **min, max, len**\n",
    "\n",
    "## Tasks"
   ]
  },
  {
   "cell_type": "code",
   "execution_count": 8,
   "metadata": {},
   "outputs": [
    {
     "output_type": "error",
     "ename": "Error",
     "evalue": "Jupyter cannot be started. Error attempting to locate jupyter: Data Science libraries notebook and jupyter are not installed in interpreter Python 3.8.5 64-bit.",
     "traceback": [
      "Error: Jupyter cannot be started. Error attempting to locate jupyter: Data Science libraries notebook and jupyter are not installed in interpreter Python 3.8.5 64-bit.",
      "at b.startServer (c:\\Users\\Cinthya\\.vscode\\extensions\\ms-python.python-2020.8.101144\\out\\client\\extension.js:48:315192)",
      "at runMicrotasks (<anonymous>)",
      "at processTicksAndRejections (internal/process/task_queues.js:85:5)",
      "at async b.createServer (c:\\Users\\Cinthya\\.vscode\\extensions\\ms-python.python-2020.8.101144\\out\\client\\extension.js:48:314634)",
      "at async connect (c:\\Users\\Cinthya\\.vscode\\extensions\\ms-python.python-2020.8.101144\\out\\client\\extension.js:48:442792)",
      "at async f.ensureConnectionAndNotebookImpl (c:\\Users\\Cinthya\\.vscode\\extensions\\ms-python.python-2020.8.101144\\out\\client\\extension.js:24:590098)",
      "at async f.ensureConnectionAndNotebook (c:\\Users\\Cinthya\\.vscode\\extensions\\ms-python.python-2020.8.101144\\out\\client\\extension.js:24:589400)",
      "at async f.clearResult (c:\\Users\\Cinthya\\.vscode\\extensions\\ms-python.python-2020.8.101144\\out\\client\\extension.js:24:585202)",
      "at async f.reexecuteCell (c:\\Users\\Cinthya\\.vscode\\extensions\\ms-python.python-2020.8.101144\\out\\client\\extension.js:9:123769)",
      "at async f.reexecuteCells (c:\\Users\\Cinthya\\.vscode\\extensions\\ms-python.python-2020.8.101144\\out\\client\\extension.js:9:120292)"
     ]
    }
   ],
   "source": [
    "# Variables\n",
    "stops = [(10, 0), (4, 1), (3, 5), (3, 4), (5, 1), (1, 5), (5, 8), (4, 6), (2, 3)]"
   ]
  },
  {
   "cell_type": "markdown",
   "metadata": {},
   "source": [
    "#### 1. Calculate the number of stops."
   ]
  },
  {
   "cell_type": "code",
   "execution_count": 9,
   "metadata": {},
   "outputs": [
    {
     "data": {
      "text/plain": [
       "9"
      ]
     },
     "execution_count": 9,
     "metadata": {},
     "output_type": "execute_result"
    }
   ],
   "source": [
    "len(stops)"
   ]
  },
  {
   "cell_type": "markdown",
   "metadata": {},
   "source": [
    "#### 2. Assign to a variable a list whose elements are the number of passengers at each stop (in-out).\n",
    "Each item depends on the previous item in the list + in - out."
   ]
  },
  {
   "cell_type": "code",
   "execution_count": 10,
   "metadata": {},
   "outputs": [
    {
     "name": "stdout",
     "output_type": "stream",
     "text": [
      "[10, 3, -2, -1, 4, -4, -3, -2, -1]\n"
     ]
    }
   ],
   "source": [
    "passengers_in = map(lambda x: x[0], stops)\n",
    "passengers_in = list(passengers_in)\n",
    "passengers_out = map(lambda x: x[1], stops)\n",
    "passengers_out = list(passengers_out)\n",
    "\n",
    "passengers = []\n",
    "\n",
    "for i in range(0, len(passengers_in)):\n",
    "    x = passengers_in[i] - passengers_out[i]\n",
    "    passengers.append(x)\n",
    "\n",
    "passengers_stops = []\n",
    "fisrt_stop = passengers_in[0] - passengers_out[0]\n",
    "passengers_stops.append(fisrt_stop)\n",
    "\n",
    "for i in range(1,len(passengers)):\n",
    "#while i < len(passengers):\n",
    "    try:\n",
    "        x = passengers_stops[i-1] + passengers[i]\n",
    "        passengers_stops.append(x)\n",
    "    except:\n",
    "        break\n",
    "\n",
    "print(passengers_stops)"
   ]
  },
  {
   "cell_type": "markdown",
   "metadata": {},
   "source": [
    "#### 3. Find the maximum occupation of the bus."
   ]
  },
  {
   "cell_type": "code",
   "execution_count": 11,
   "metadata": {},
   "outputs": [
    {
     "data": {
      "text/plain": [
       "10"
      ]
     },
     "execution_count": 11,
     "metadata": {},
     "output_type": "execute_result"
    }
   ],
   "source": [
    "max(passengers_stops)"
   ]
  },
  {
   "cell_type": "markdown",
   "metadata": {},
   "source": [
    "#### 4. Calculate the average occupation. And the standard deviation."
   ]
  },
  {
   "cell_type": "code",
   "execution_count": 12,
   "metadata": {},
   "outputs": [
    {
     "name": "stdout",
     "output_type": "stream",
     "text": [
      "The average occupation is 0.4444444444444444\n",
      "The standart deviation is 4.447221354708778\n"
     ]
    }
   ],
   "source": [
    "average = sum(passengers_stops)/len(passengers_stops)\n",
    "print(\"The average occupation is\", average)\n",
    "\n",
    "import statistics\n",
    "print(\"The standart deviation is\",statistics.stdev(passengers_stops))"
   ]
  },
  {
   "cell_type": "code",
   "execution_count": null,
   "metadata": {},
   "outputs": [],
   "source": []
  }
 ],
 "metadata": {
  "kernelspec": {
   "display_name": "Python 3",
   "language": "python",
   "name": "python3"
  },
  "language_info": {
   "codemirror_mode": {
    "name": "ipython",
    "version": 3
   },
   "file_extension": ".py",
   "mimetype": "text/x-python",
   "name": "python",
   "nbconvert_exporter": "python",
   "pygments_lexer": "ipython3",
   "version": "3.8.3"
  }
 },
 "nbformat": 4,
 "nbformat_minor": 2
}